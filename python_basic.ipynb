{
  "nbformat": 4,
  "nbformat_minor": 0,
  "metadata": {
    "colab": {
      "provenance": [],
      "authorship_tag": "ABX9TyPaKY29GQDwqh1TpqBeqb7Z",
      "include_colab_link": true
    },
    "kernelspec": {
      "name": "python3",
      "display_name": "Python 3"
    },
    "language_info": {
      "name": "python"
    }
  },
  "cells": [
    {
      "cell_type": "markdown",
      "metadata": {
        "id": "view-in-github",
        "colab_type": "text"
      },
      "source": [
        "<a href=\"https://colab.research.google.com/github/Adeshkachare/adesh/blob/main/python_basic.ipynb\" target=\"_parent\"><img src=\"https://colab.research.google.com/assets/colab-badge.svg\" alt=\"Open In Colab\"/></a>"
      ]
    },
    {
      "cell_type": "markdown",
      "source": [
        "Programming languages for Machine Learning:\n",
        "\n",
        "*   Python\n",
        "*   R\n",
        "\n"
      ],
      "metadata": {
        "id": "ZDSuakKs5BQ1"
      }
    },
    {
      "cell_type": "markdown",
      "source": [
        "#Print function:"
      ],
      "metadata": {
        "id": "p8HhETeW5QoM"
      }
    },
    {
      "cell_type": "code",
      "source": [
        "print(\"Machile Learning\") #This function shows some message on screen."
      ],
      "metadata": {
        "colab": {
          "base_uri": "https://localhost:8080/"
        },
        "id": "WH_IvZBg5Xlp",
        "outputId": "f7598e62-715e-4998-8aef-9e58af053f88"
      },
      "execution_count": null,
      "outputs": [
        {
          "output_type": "stream",
          "name": "stdout",
          "text": [
            "Machile Learning\n"
          ]
        }
      ]
    },
    {
      "cell_type": "markdown",
      "source": [
        "in the above function I use machine learning in double quotes, we can also write it in single quote but we can't start with single quote and end with double quote it will give error"
      ],
      "metadata": {
        "id": "ocYzUiRY5n2m"
      }
    },
    {
      "cell_type": "markdown",
      "source": [
        "Now let's see concating two strings in one function"
      ],
      "metadata": {
        "id": "by4aCQo78UvK"
      }
    },
    {
      "cell_type": "code",
      "source": [
        "print(\"Machine Learning\" + \" Projects\") #here we use space before Projects becuase if we don't use, we will see msg as Machine LearningProjects"
      ],
      "metadata": {
        "colab": {
          "base_uri": "https://localhost:8080/"
        },
        "id": "SG8UvzLx8cu0",
        "outputId": "028aedb8-9fde-445a-ac70-3b8d15c6a840"
      },
      "execution_count": null,
      "outputs": [
        {
          "output_type": "stream",
          "name": "stdout",
          "text": [
            "Machine Learning Projects\n"
          ]
        }
      ]
    },
    {
      "cell_type": "markdown",
      "source": [
        "Printing number"
      ],
      "metadata": {
        "id": "rGOei_6GLApk"
      }
    },
    {
      "cell_type": "code",
      "source": [
        "print(8) # there is no need to write single or double quotes while printing numbers"
      ],
      "metadata": {
        "colab": {
          "base_uri": "https://localhost:8080/"
        },
        "id": "xnhs9t5p84tv",
        "outputId": "e4ee7511-ba3b-42e8-b408-282ceab1d704"
      },
      "execution_count": null,
      "outputs": [
        {
          "output_type": "stream",
          "name": "stdout",
          "text": [
            "8\n"
          ]
        }
      ]
    },
    {
      "cell_type": "markdown",
      "source": [
        "Addtion in print function"
      ],
      "metadata": {
        "id": "gDnSzHHVLaSA"
      }
    },
    {
      "cell_type": "code",
      "source": [
        "print(8+4)"
      ],
      "metadata": {
        "colab": {
          "base_uri": "https://localhost:8080/"
        },
        "id": "VuTBvEqVLQ81",
        "outputId": "f582806b-1e13-459e-b59b-b266379f0212"
      },
      "execution_count": null,
      "outputs": [
        {
          "output_type": "stream",
          "name": "stdout",
          "text": [
            "12\n"
          ]
        }
      ]
    },
    {
      "cell_type": "markdown",
      "source": [
        "#Data Types\n",
        "\n",
        "*   int - it contains integer\n",
        "*   float - It contains floating values.\n",
        "*   complex - Complex numbers in Python are a built-in data type, represented in the form a + bj, where a is the real part and b is the imaginary part, and j (or J) denotes the imaginary unit (√-1).\n",
        "*   boolean - Boolean values represent truth values and are denoted by the keywords True or False.\n",
        "*   str - It contains String and also characted or the best I can say is group of characters\n",
        "\n"
      ],
      "metadata": {
        "id": "N4qaP84fMEsp"
      }
    },
    {
      "cell_type": "code",
      "source": [
        "#Integer\n",
        "num = 9\n",
        "print(num)\n",
        "type(num) #here type is a function which shows datatype of 9"
      ],
      "metadata": {
        "colab": {
          "base_uri": "https://localhost:8080/"
        },
        "id": "UqB6AEdLMBEu",
        "outputId": "a4fe64cf-d4ce-4b95-8a6f-5a8491364fe4"
      },
      "execution_count": 25,
      "outputs": [
        {
          "output_type": "stream",
          "name": "stdout",
          "text": [
            "9\n"
          ]
        },
        {
          "output_type": "execute_result",
          "data": {
            "text/plain": [
              "int"
            ]
          },
          "metadata": {},
          "execution_count": 25
        }
      ]
    },
    {
      "cell_type": "code",
      "source": [
        "#Floating point\n",
        "num = 8.2\n",
        "print(num)\n",
        "type(num)"
      ],
      "metadata": {
        "colab": {
          "base_uri": "https://localhost:8080/"
        },
        "id": "6C4l2zwvNN9W",
        "outputId": "43a59c99-5238-4748-8cc8-8e7e8c00bb5d"
      },
      "execution_count": 26,
      "outputs": [
        {
          "output_type": "stream",
          "name": "stdout",
          "text": [
            "8.2\n"
          ]
        },
        {
          "output_type": "execute_result",
          "data": {
            "text/plain": [
              "float"
            ]
          },
          "metadata": {},
          "execution_count": 26
        }
      ]
    },
    {
      "cell_type": "code",
      "source": [
        "#Complex Number\n",
        "num = 2 + 3j\n",
        "print(num)\n",
        "type(num)"
      ],
      "metadata": {
        "colab": {
          "base_uri": "https://localhost:8080/"
        },
        "id": "gN-fxTBsen6p",
        "outputId": "8f1f3582-b9c5-4660-aa9d-7d108305b5c2"
      },
      "execution_count": 27,
      "outputs": [
        {
          "output_type": "stream",
          "name": "stdout",
          "text": [
            "(2+3j)\n"
          ]
        },
        {
          "output_type": "execute_result",
          "data": {
            "text/plain": [
              "complex"
            ]
          },
          "metadata": {},
          "execution_count": 27
        }
      ]
    },
    {
      "cell_type": "code",
      "source": [
        "#Boolean\n",
        "num = True\n",
        "print(num)\n",
        "type(num)"
      ],
      "metadata": {
        "colab": {
          "base_uri": "https://localhost:8080/"
        },
        "id": "pDHsQaBHe4jO",
        "outputId": "9364180c-b4a4-46ff-e192-e2ab0f5deaaf"
      },
      "execution_count": 28,
      "outputs": [
        {
          "output_type": "stream",
          "name": "stdout",
          "text": [
            "True\n"
          ]
        },
        {
          "output_type": "execute_result",
          "data": {
            "text/plain": [
              "bool"
            ]
          },
          "metadata": {},
          "execution_count": 28
        }
      ]
    },
    {
      "cell_type": "code",
      "source": [
        "#String\n",
        "num = \"5\"\n",
        "print(num)\n",
        "type(num)"
      ],
      "metadata": {
        "colab": {
          "base_uri": "https://localhost:8080/"
        },
        "id": "Ev2jQjBFNR8g",
        "outputId": "027d4b33-110f-4de3-de90-162cb4774baa"
      },
      "execution_count": 29,
      "outputs": [
        {
          "output_type": "stream",
          "name": "stdout",
          "text": [
            "5\n"
          ]
        },
        {
          "output_type": "execute_result",
          "data": {
            "text/plain": [
              "str"
            ]
          },
          "metadata": {},
          "execution_count": 29
        }
      ]
    },
    {
      "cell_type": "code",
      "source": [
        "#String Slicing\n",
        "a = \"Machine Learning\"\n",
        "print(a[1:4]) #This will show index 1 - index 3 values"
      ],
      "metadata": {
        "colab": {
          "base_uri": "https://localhost:8080/"
        },
        "id": "Lqv93po2gu8y",
        "outputId": "599fd5f3-1776-4f0b-d772-25e76ba00f28"
      },
      "execution_count": 31,
      "outputs": [
        {
          "output_type": "stream",
          "name": "stdout",
          "text": [
            "ach\n"
          ]
        }
      ]
    },
    {
      "cell_type": "markdown",
      "source": [
        "#Constants and Variables:\n",
        "As the name suggest variables are something whose values can be change but we can not change values for constants\n",
        "\n",
        "\n",
        "\n"
      ],
      "metadata": {
        "id": "77F6QlToNeOn"
      }
    },
    {
      "cell_type": "code",
      "source": [
        "superhero = \"Iron Man\"\n",
        "print(superhero)"
      ],
      "metadata": {
        "colab": {
          "base_uri": "https://localhost:8080/"
        },
        "id": "Zr55yo6vNUoU",
        "outputId": "46ae1675-c69a-4d17-ea96-695f43b92394"
      },
      "execution_count": 8,
      "outputs": [
        {
          "output_type": "stream",
          "name": "stdout",
          "text": [
            "Iron Man\n"
          ]
        }
      ]
    },
    {
      "cell_type": "markdown",
      "source": [
        "Giving multiple values to multiple variable on one line"
      ],
      "metadata": {
        "id": "Q8uP1zSDZkLX"
      }
    },
    {
      "cell_type": "code",
      "source": [
        "hero1, hero2, hero3 = \"Iron Man\", \"Deadpool\", \"Bat-Man\"\n",
        "print(hero1)\n",
        "print(hero2)\n",
        "print(hero3)"
      ],
      "metadata": {
        "colab": {
          "base_uri": "https://localhost:8080/"
        },
        "id": "tEecCKXAZUYa",
        "outputId": "64759226-b640-4f1f-c98f-d27c2b502b17"
      },
      "execution_count": 10,
      "outputs": [
        {
          "output_type": "stream",
          "name": "stdout",
          "text": [
            "Iron Man\n",
            "Deadpool\n",
            "Bat-Man\n"
          ]
        }
      ]
    },
    {
      "cell_type": "markdown",
      "source": [
        "Giving one value to multiple variable"
      ],
      "metadata": {
        "id": "o5eFszQhaTYT"
      }
    },
    {
      "cell_type": "code",
      "source": [
        "x = y = z = 20\n",
        "print(x)\n",
        "print(y)\n",
        "print(z)"
      ],
      "metadata": {
        "colab": {
          "base_uri": "https://localhost:8080/"
        },
        "id": "HuZ-tIDgZ8bt",
        "outputId": "91f7e63f-3570-4832-da9f-bbc15ef72b12"
      },
      "execution_count": 12,
      "outputs": [
        {
          "output_type": "stream",
          "name": "stdout",
          "text": [
            "20\n",
            "20\n",
            "20\n"
          ]
        }
      ]
    },
    {
      "cell_type": "markdown",
      "source": [
        "#Input Function:\n",
        "This function is useful to get input from user"
      ],
      "metadata": {
        "id": "xNZAjzNjavP8"
      }
    },
    {
      "cell_type": "code",
      "source": [
        "num_1 = int(input(\"Enter a 1st number: \"))\n",
        "num_2 = int(input(\"Enter a 2nd number: \"))\n",
        "\n",
        "print(num_1 + num_2)"
      ],
      "metadata": {
        "colab": {
          "base_uri": "https://localhost:8080/"
        },
        "id": "HMv-qS1OamqN",
        "outputId": "becb8279-fbfe-4611-c549-8aceb931bed9"
      },
      "execution_count": 22,
      "outputs": [
        {
          "output_type": "stream",
          "name": "stdout",
          "text": [
            "Enter a 1st number: 3\n",
            "Enter a 2nd number: 4\n",
            "7\n"
          ]
        }
      ]
    },
    {
      "cell_type": "code",
      "source": [
        "#Changing the datatype in python\n",
        "num = 5\n",
        "print(float(num))\n",
        "print(str(num))"
      ],
      "metadata": {
        "colab": {
          "base_uri": "https://localhost:8080/"
        },
        "id": "cEzh-7N5bOzN",
        "outputId": "d8fc70d2-2702-474e-a710-3be209e884f5"
      },
      "execution_count": 23,
      "outputs": [
        {
          "output_type": "stream",
          "name": "stdout",
          "text": [
            "5.0\n",
            "5\n"
          ]
        }
      ]
    },
    {
      "cell_type": "markdown",
      "source": [],
      "metadata": {
        "id": "5rHPiQl9ds1G"
      }
    },
    {
      "cell_type": "markdown",
      "source": [
        "#Types of Objects:\n",
        "\n",
        "*   Immutable - Fixed\n",
        "*   Mutable - Changeable\n",
        "\n"
      ],
      "metadata": {
        "id": "F-MNjnXgmVE8"
      }
    },
    {
      "cell_type": "markdown",
      "source": [
        "Immutable Objects:\n",
        "\n",
        "*   Integer\n",
        "*   Float\n",
        "*   String\n",
        "*   Bool\n",
        "*   Tuple\n",
        "\n"
      ],
      "metadata": {
        "id": "R9LvTN_lmmot"
      }
    },
    {
      "cell_type": "markdown",
      "source": [
        "Mutable Objects:\n",
        "\n",
        "*   List\n",
        "*   Set\n",
        "*   Dictionary\n",
        "\n"
      ],
      "metadata": {
        "id": "l4uOH-fVm5pn"
      }
    },
    {
      "cell_type": "markdown",
      "source": [
        "List:"
      ],
      "metadata": {
        "id": "RcXcW7I_nFAA"
      }
    },
    {
      "cell_type": "code",
      "source": [
        "#Lsit should be included in square brackets.\n",
        "list_1 = [1,2,3,4,5]\n",
        "print(list_1)\n",
        "type(list_1)"
      ],
      "metadata": {
        "colab": {
          "base_uri": "https://localhost:8080/"
        },
        "id": "dZFWaRdHdc4n",
        "outputId": "3a60c3ea-7e78-4289-ce89-d74a666f1aa8"
      },
      "execution_count": 32,
      "outputs": [
        {
          "output_type": "stream",
          "name": "stdout",
          "text": [
            "[1, 2, 3, 4, 5]\n"
          ]
        },
        {
          "output_type": "execute_result",
          "data": {
            "text/plain": [
              "list"
            ]
          },
          "metadata": {},
          "execution_count": 32
        }
      ]
    },
    {
      "cell_type": "code",
      "source": [
        "#List can have multiple data types\n",
        "list_1 = [1,2,3,2.9,'Marathi', True]\n",
        "print(list_1)"
      ],
      "metadata": {
        "colab": {
          "base_uri": "https://localhost:8080/"
        },
        "id": "iyOS2gIJnZt3",
        "outputId": "ac0244a0-495e-4aa7-9722-3b0de03bd68c"
      },
      "execution_count": 33,
      "outputs": [
        {
          "output_type": "stream",
          "name": "stdout",
          "text": [
            "[1, 2, 3, 2.9, 'Marathi', True]\n"
          ]
        }
      ]
    },
    {
      "cell_type": "markdown",
      "source": [
        "List are mutble means changeable"
      ],
      "metadata": {
        "id": "S3f6zRS9nu9n"
      }
    },
    {
      "cell_type": "code",
      "source": [
        "#adding elements in a list\n",
        "list_1.append(5) #in the o/p of this line u'll find that list allows duplicate values\n",
        "print(list_1)"
      ],
      "metadata": {
        "colab": {
          "base_uri": "https://localhost:8080/"
        },
        "id": "4HdNb90Mnrsm",
        "outputId": "520831cb-b27c-405d-8626-7773f75bf1f4"
      },
      "execution_count": 39,
      "outputs": [
        {
          "output_type": "stream",
          "name": "stdout",
          "text": [
            "[1, 2, 3, 2.9, 'Marathi', True, 6, 6, 6, 5]\n"
          ]
        }
      ]
    },
    {
      "cell_type": "code",
      "source": [
        "#Printing elements of list using their index\n",
        "print(list_1[0])\n",
        "print(list_1[4])"
      ],
      "metadata": {
        "colab": {
          "base_uri": "https://localhost:8080/"
        },
        "id": "sBTcjiTuoB9Y",
        "outputId": "46fbde1d-c13c-4b83-8d24-d3a390465a4a"
      },
      "execution_count": 40,
      "outputs": [
        {
          "output_type": "stream",
          "name": "stdout",
          "text": [
            "1\n",
            "Marathi\n"
          ]
        }
      ]
    },
    {
      "cell_type": "code",
      "source": [
        "# deleting list element\n",
        "del list_1[3]\n",
        "print(list_1)"
      ],
      "metadata": {
        "colab": {
          "base_uri": "https://localhost:8080/"
        },
        "id": "SCkhejzZoptz",
        "outputId": "9bfa11f2-8854-4531-afea-73864ec67e5c"
      },
      "execution_count": 42,
      "outputs": [
        {
          "output_type": "stream",
          "name": "stdout",
          "text": [
            "[1, 2, 3, 'Marathi', True, 6, 6, 6, 5]\n"
          ]
        }
      ]
    },
    {
      "cell_type": "code",
      "source": [
        "# Join two lists\n",
        "list_2 = [5,6,7,8,9]\n",
        "print(list_1 + list_2)"
      ],
      "metadata": {
        "colab": {
          "base_uri": "https://localhost:8080/"
        },
        "id": "fJNx5m0spX-z",
        "outputId": "3b46bf22-4f61-4ea7-d73b-b8012ae340f4"
      },
      "execution_count": 43,
      "outputs": [
        {
          "output_type": "stream",
          "name": "stdout",
          "text": [
            "[1, 2, 3, 'Marathi', True, 6, 6, 6, 5, 5, 6, 7, 8, 9]\n"
          ]
        }
      ]
    },
    {
      "cell_type": "markdown",
      "source": [
        "Tuple"
      ],
      "metadata": {
        "id": "r_sOVutup5ya"
      }
    },
    {
      "cell_type": "code",
      "source": [
        "#tuples are similar to list the only difference is they are immutable, included in round brackets\n",
        "# Let's convert above list into tuple\n",
        "# Appending vlues in tuple is not possible\n",
        "print(tuple(list_1))"
      ],
      "metadata": {
        "colab": {
          "base_uri": "https://localhost:8080/"
        },
        "id": "tuogMt6fpsL7",
        "outputId": "cd5c449b-c04c-4ec2-dc1f-99595b205bb7"
      },
      "execution_count": 44,
      "outputs": [
        {
          "output_type": "stream",
          "name": "stdout",
          "text": [
            "(1, 2, 3, 'Marathi', True, 6, 6, 6, 5)\n"
          ]
        }
      ]
    },
    {
      "cell_type": "markdown",
      "source": [
        "Set"
      ],
      "metadata": {
        "id": "pGtdU5HbrBsF"
      }
    },
    {
      "cell_type": "code",
      "source": [
        "#Set should be enclosed in curly brackets\n",
        "# set does not support indexing\n",
        "#set does not allow repeated values\n",
        "set1 = {1,2,3,4}\n",
        "print(set1)\n",
        "type(set1)"
      ],
      "metadata": {
        "colab": {
          "base_uri": "https://localhost:8080/"
        },
        "id": "nIwMaD_hqinN",
        "outputId": "6cd45a81-c15e-4559-8e80-5c1c8f0b2290"
      },
      "execution_count": 46,
      "outputs": [
        {
          "output_type": "stream",
          "name": "stdout",
          "text": [
            "{1, 2, 3, 4}\n"
          ]
        },
        {
          "output_type": "execute_result",
          "data": {
            "text/plain": [
              "set"
            ]
          },
          "metadata": {},
          "execution_count": 46
        }
      ]
    },
    {
      "cell_type": "code",
      "source": [
        "#list to set\n",
        "print(set(list_2))"
      ],
      "metadata": {
        "colab": {
          "base_uri": "https://localhost:8080/"
        },
        "id": "Yy5oNlMHrSeW",
        "outputId": "309a6fb7-60c9-4d91-9969-d1f1138c5278"
      },
      "execution_count": 47,
      "outputs": [
        {
          "output_type": "stream",
          "name": "stdout",
          "text": [
            "{5, 6, 7, 8, 9}\n"
          ]
        }
      ]
    },
    {
      "cell_type": "markdown",
      "source": [
        "Dictionary:"
      ],
      "metadata": {
        "id": "76dXDgdNr33p"
      }
    },
    {
      "cell_type": "code",
      "source": [
        "#It is in key-value pair\n",
        "#enclosed in curly braces\n",
        "my_dict = {'name' : \"John\",\"age\": 30, \"Country\" : \"India\"}\n",
        "print(my_dict)\n",
        "type(my_dict)"
      ],
      "metadata": {
        "colab": {
          "base_uri": "https://localhost:8080/"
        },
        "id": "aZO3qD5arrBG",
        "outputId": "e82d3762-609e-4afc-ddca-33d07fcaaaa1"
      },
      "execution_count": 50,
      "outputs": [
        {
          "output_type": "stream",
          "name": "stdout",
          "text": [
            "{'name': 'John', 'age': 30, 'Country': 'India'}\n"
          ]
        },
        {
          "output_type": "execute_result",
          "data": {
            "text/plain": [
              "dict"
            ]
          },
          "metadata": {},
          "execution_count": 50
        }
      ]
    },
    {
      "cell_type": "code",
      "source": [
        "#in it printing value using index is not possible only possible with key\n",
        "#Does not allow duplicate values\n",
        "print(my_dict[\"name\"])"
      ],
      "metadata": {
        "colab": {
          "base_uri": "https://localhost:8080/"
        },
        "id": "YR7Xf1wjsc0d",
        "outputId": "58fe36b3-b7ed-4621-e849-5bf04cf7787b"
      },
      "execution_count": 52,
      "outputs": [
        {
          "output_type": "stream",
          "name": "stdout",
          "text": [
            "John\n"
          ]
        }
      ]
    },
    {
      "cell_type": "code",
      "source": [],
      "metadata": {
        "id": "dDM2Tq9-tDue"
      },
      "execution_count": null,
      "outputs": []
    }
  ]
}